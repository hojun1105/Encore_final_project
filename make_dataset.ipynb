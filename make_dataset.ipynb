{
 "cells": [
  {
   "cell_type": "markdown",
   "id": "b4dfe37f",
   "metadata": {},
   "source": [
    "## 이미지 파일 이름 정렬"
   ]
  },
  {
   "cell_type": "code",
   "execution_count": null,
   "id": "e48b3fd9",
   "metadata": {},
   "outputs": [],
   "source": [
    "import os\n",
    "import os.path\n",
    "\n",
    "file_path = \"이미지 폴더 경로\"  # jupyter notebook에서 실행 시 \\ -> \\\\ 로 변경해줘야함.\n",
    "file_names = os.listdir(file_path)\n",
    "print(file_names)\n",
    "\n",
    "i = 1\n",
    "for name in file_names :\n",
    "    src = os.path.join(file_path, name)\n",
    "    dst = 'NAME' + str(i) +'.jpg'    # ex) 'fall1.jpg', 'fall2.jpg'......\n",
    "    dst = os.path.join(file_path, dst)\n",
    "    os.rename(src, dst)\n",
    "    i += 1\n",
    "\n",
    "print(file_names)"
   ]
  },
  {
   "cell_type": "markdown",
   "id": "7ccc5d0d",
   "metadata": {},
   "source": [
    "## split-folders로 이미지 데이터 train/val/test 세트 나누기"
   ]
  },
  {
   "cell_type": "markdown",
   "id": "2d9a9758",
   "metadata": {},
   "source": [
    "### split-folders 이용하려면 input 디렉토리 구조가 형식을 갖추고 있어야한다.\n",
    "  \n",
    "  \n",
    "  \n",
    "input/  \n",
    "    class1/  \n",
    "        img1.jpg  \n",
    "        img2.jpg  \n",
    "        ...  \n",
    "    class2/  \n",
    "        imgN.jpg  \n",
    "        ...  \n",
    "    ...  "
   ]
  },
  {
   "cell_type": "code",
   "execution_count": null,
   "id": "9d68b3d9",
   "metadata": {},
   "outputs": [],
   "source": [
    "!pip install split-folders\n",
    "\n",
    "import splitfolders\n",
    "\n",
    "# ratio 파라미터에 원하는 (train, validation, test) 비율을 입력합니다. ex) (0.7, 0.2, 0.1)\n",
    "splitfolders.ratio(input = \"input 폴더 경로\", output=\"output 폴더 경로\", seed= 70, ratio=(.7, .2, .1))"
   ]
  },
  {
   "cell_type": "markdown",
   "id": "96d6beb2",
   "metadata": {},
   "source": [
    "### output 디렉토리 구조 결과\n",
    "\n",
    "output/  \n",
    "    train/  \n",
    "        class1/  \n",
    "            img1.jpg  \n",
    "            ...  \n",
    "        class2/  \n",
    "            imga.jpg  \n",
    "            ...  \n",
    "    val/  \n",
    "        class1/  \n",
    "            img2.jpg  \n",
    "            ...  \n",
    "        class2/  \n",
    "            imgb.jpg  \n",
    "            ...  \n",
    "    test/  \n",
    "        class1/  \n",
    "            img3.jpg  \n",
    "            ...  \n",
    "        class2/  \n",
    "            imgc.jpg  \n",
    "            ...  "
   ]
  },
  {
   "cell_type": "markdown",
   "id": "ac9b0a4a",
   "metadata": {},
   "source": [
    "## 라벨링 정보가 들어있는 txt 파일들 output 폴더로 옮기기  \n",
    "\n",
    "output/train,val,tese/에 각각 labels 라는 폴더를 생성해준다.\n",
    "\n",
    "yolo_mark 라벨링 파일들은 \"Yolo_mark-master\\x64\\Release\\data\\img\" 안에 있다 "
   ]
  },
  {
   "cell_type": "code",
   "execution_count": null,
   "id": "35863882",
   "metadata": {},
   "outputs": [],
   "source": [
    "import os\n",
    "import shutil\n",
    "\n",
    "# 이미지 폴더 안 파일 이름들 리스트로 받기\n",
    "path_dir = \"이미지가 들어있는 폴더 경로\"    # ex) output\\train\\images\n",
    "file_list2 = os.listdir(path_dir) \n",
    "print(file_list)\n",
    "\n",
    "# 받아온 파일 리스트에서  '.jpg' 지우기\n",
    "lines2 = [line.rstrip('.jpg') for line in file_list]\n",
    "\n",
    "print(lines2)\n",
    "\n",
    "path_dir = \"C:\\\\Yolo_mark-master\\\\x64\\\\Release\\\\data\\\\img\\\\\"  \n",
    "move_path_dir = \"파일들이 옮겨질 폴더 경로\\\\\"   # ex) output\\\\train\\\\labels\\\\\n",
    "\n",
    "# 리스트에서 조건에 맞는 파일을 찾으며 다른 폴더로 분류하기\n",
    "for item in lines2:  # loop 를 돌면서 리스트안에 데이터를 하나씩 확인\n",
    "     # 원본경로 + 파일이름 , 옮길 경로 + 파일이름 .. \n",
    "    shutil.copy(path_dir+item+'.txt'  , move_path_dir+item+'.txt' )"
   ]
  },
  {
   "cell_type": "markdown",
   "id": "4791f31f",
   "metadata": {},
   "source": [
    "## output 폴더에 이미지와 라벨 데이터들이 옮겨졌으면 data.yaml파일 하나를 생성한다."
   ]
  },
  {
   "cell_type": "markdown",
   "id": "bccaa402",
   "metadata": {},
   "source": [
    "### yaml파일 형식  예\n",
    "\n",
    "test: ../test/images  \n",
    "train: ../train/images  \n",
    "val: ../valid/images  \n",
    "  \n",
    "nc: 2  \n",
    "names: ['fall', 'stand']    \n",
    "  \n",
    "test, train, val 경로는 모델 돌릴 때 수정."
   ]
  },
  {
   "attachments": {
    "dataset1.png": {
     "image/png": "[encoded data removed]"
    }
   },
   "cell_type": "markdown",
   "id": "20819884",
   "metadata": {},
   "source": [
    "![dataset1.png](attachment:dataset1.png)"
   ]
  },
  {
   "attachments": {
    "dataset2.png": {
     "image/png": "[encoded data removed]"
    }
   },
   "cell_type": "markdown",
   "id": "5f2d3478",
   "metadata": {},
   "source": [
    "![dataset2.png](attachment:dataset2.png)"
   ]
  },
  {
   "cell_type": "markdown",
   "id": "c8064e51",
   "metadata": {},
   "source": [
    "## data.yaml 수정 "
   ]
  },
  {
   "cell_type": "code",
   "execution_count": null,
   "id": "4f2e6ffb",
   "metadata": {},
   "outputs": [],
   "source": [
    "# data.yaml 파일 출력\n",
    "\n",
    "!cat /content/nn_data/data.yaml"
   ]
  },
  {
   "cell_type": "code",
   "execution_count": null,
   "id": "2e329a1a",
   "metadata": {},
   "outputs": [],
   "source": [
    "%cd /\n",
    "from glob import glob\n",
    "\n",
    "train_img_list = glob('/content/nn_data/train/images/*.jpg')\n",
    "\n",
    "test_img_list = glob('/content/nn_data/test/images/*.jpg')\n",
    "\n",
    "val_img_list = glob('/content/nn_data/val/images/*.jpg')\n",
    "\n",
    "print(len(train_img_list))\n",
    "print(len(test_img_list))\n",
    "print(len(val_img_list))"
   ]
  },
  {
   "cell_type": "code",
   "execution_count": null,
   "id": "0aade10e",
   "metadata": {},
   "outputs": [],
   "source": [
    "with open('/content/nn_data/train.txt', 'w') as f:\n",
    "  f.write('\\n'.join(train_img_list) + '\\n')\n",
    "\n",
    "with open('/content/nn_data/test.txt', 'w') as f:\n",
    "  f.write('\\n'.join(test_img_list) + '\\n')\n",
    "\n",
    "with open('/content/nn_data/val.txt', 'w') as f:\n",
    "  f.write('\\n'.join(val_img_list) + '\\n')"
   ]
  },
  {
   "cell_type": "code",
   "execution_count": null,
   "id": "bf4d3de7",
   "metadata": {},
   "outputs": [],
   "source": [
    "import yaml\n",
    "\n",
    "with open('/content/nn_data/data.yaml', 'r') as f:\n",
    "  data = yaml.safe_load(f)\n",
    "\n",
    "print(data)\n",
    "\n",
    "data['train'] = '/content/nn_data/train.txt'\n",
    "data['test'] = '/content/nn_data/test.txt'\n",
    "data['val'] = '/content/nn_data/val.txt'\n",
    "\n",
    "with open('/content/nn_data/data.yaml', 'w') as f:\n",
    "  yaml.dump(data, f)\n",
    "\n",
    "print(data)"
   ]
  }
 ],
 "metadata": {
  "kernelspec": {
   "display_name": "Python 3 (ipykernel)",
   "language": "python",
   "name": "python3"
  },
  "language_info": {
   "codemirror_mode": {
    "name": "ipython",
    "version": 3
   },
   "file_extension": ".py",
   "mimetype": "text/x-python",
   "name": "python",
   "nbconvert_exporter": "python",
   "pygments_lexer": "ipython3",
   "version": "3.9.12"
  }
 },
 "nbformat": 4,
 "nbformat_minor": 5
}
